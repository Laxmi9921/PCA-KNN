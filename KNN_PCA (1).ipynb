{
  "nbformat": 4,
  "nbformat_minor": 0,
  "metadata": {
    "colab": {
      "provenance": []
    },
    "kernelspec": {
      "name": "python3",
      "display_name": "Python 3"
    },
    "language_info": {
      "name": "python"
    }
  },
  "cells": [
    {
      "cell_type": "markdown",
      "source": [
        "1.What is K-Nearest Neighbors(KNN) and how does it work in both  classification and regression problems?"
      ],
      "metadata": {
        "id": "e4G-XOULz9Ve"
      }
    },
    {
      "cell_type": "markdown",
      "source": [
        "-> K-Nearest Neighbors is a supervised machine algorithm used for classification and regression tasks. Its called lazy learning because it doesn't explicity build a model during training it just stores the data and makes predictions at query time.\n",
        "*In classification, prediction is based on the majority class of neighbors.\n",
        "*In regression, prediction is based on the average value of neighbors."
      ],
      "metadata": {
        "id": "65WAsw3o0UQE"
      }
    },
    {
      "cell_type": "markdown",
      "source": [
        "2.What is the curse of Dimensionality and how does it affect KNN performance?"
      ],
      "metadata": {
        "id": "FRBzT2Pt03sp"
      }
    },
    {
      "cell_type": "markdown",
      "source": [
        "-> The curse of dimensionality refers to the problems that arise when working with high-dimensional data.\n",
        "*Nearest neighbor becomes less meaningful\n",
        "*Incresed risk of oveerfitting\n",
        "*Higher computational cost"
      ],
      "metadata": {
        "id": "uQbpdabk0_oG"
      }
    },
    {
      "cell_type": "markdown",
      "source": [
        "3.What is Principal Component Analysis(PCA)? How is it different from feature selection?"
      ],
      "metadata": {
        "id": "DYqgdjfw1T3m"
      }
    },
    {
      "cell_type": "markdown",
      "source": [
        "-> Principal Component Analysis(PCA) is a dimensionally reduction technique that transforms the original features into a new set of features called principal components.\n",
        "Feature selection-Selecting subset of the original feature that are most relevant.\n",
        "Keep some of the original feature.\n",
        "Remove irrelevant/redundant features.\n",
        "Easy to interpret."
      ],
      "metadata": {
        "id": "is-hsNEJ1e1W"
      }
    },
    {
      "cell_type": "markdown",
      "source": [
        "4.What are eigenvalues and eigenvectors in PCA, and why are they important?"
      ],
      "metadata": {
        "id": "bSM7Vj3I19vp"
      }
    },
    {
      "cell_type": "markdown",
      "source": [
        "-> Av = lambda v\n",
        "here v = eigenvector\n",
        "lambda = eigenvalue(a scalar)\n",
        "\n",
        "importance:\n",
        "*Eigenvectors define principal components\n",
        "*Eigenvalues tell us the importance\n",
        "*Dimensionally reduction\n",
        "\n"
      ],
      "metadata": {
        "id": "EivNf9jG2FtY"
      }
    },
    {
      "cell_type": "markdown",
      "source": [
        "5.How KNN and PCA complement each other when applied in a single pipeline?"
      ],
      "metadata": {
        "id": "dpBexEQe20Ou"
      }
    },
    {
      "cell_type": "markdown",
      "source": [
        "-> *PCA transforms high-dimensional data into a smaller set of informative features.\n",
        "*KNN then classifies or predicts based on distance in this reduced space.\n",
        "*Both complement each other because PCA reduces dimensionally and makes distance more meaningful, while KNN use those distance for prediction.\n",
        "*The combo reduces curse of dimensionally, improves efficiency, and often increases accuracy."
      ],
      "metadata": {
        "id": "VPIGFgDJ28zA"
      }
    },
    {
      "cell_type": "markdown",
      "source": [
        "6. Train KNN classifier on the wine dataset with and without feature scaling. comapre model accuracy in both cases."
      ],
      "metadata": {
        "id": "BzcsIpkoRLV1"
      }
    },
    {
      "cell_type": "code",
      "source": [
        "from sklearn.datasets import load_wine\n",
        "from sklearn.model_selection import train_test_split\n",
        "from sklearn.neighbors import KNeighborsClassifier\n",
        "from sklearn.preprocessing import StandardScaler\n",
        "from sklearn.pipeline import make_pipeline\n",
        "X, y = load_wine(return_X_y=True)\n",
        "X_tr, X_te, y_tr, y_te = train_test_split(\n",
        "    X, y, test_size=0.30, random_state=42, stratify=y\n",
        ")\n",
        "knn_plain = KNeighborsClassifier(n_neighbors=5)\n",
        "knn_plain.fit(X_tr, y_tr)\n",
        "acc_no = knn_plain.score(X_te, y_te)\n",
        "knn_scaled = make_pipeline(StandardScaler(),\n",
        "KNeighborsClassifier(n_neighbors=5))\n",
        "knn_scaled.fit(X_tr, y_tr)\n",
        "acc_yes = knn_scaled.score(X_te, y_te)\n",
        "print(f\"Accuracy without scaling: {acc_no:.3f}\")\n",
        "print(f\"Accuracy with scaling : {acc_yes:.3f}\")"
      ],
      "metadata": {
        "colab": {
          "base_uri": "https://localhost:8080/"
        },
        "id": "GavoBQWdTpPe",
        "outputId": "6913a270-7a5e-4eae-f6ed-be020a655717"
      },
      "execution_count": null,
      "outputs": [
        {
          "output_type": "stream",
          "name": "stdout",
          "text": [
            "Accuracy without scaling: 0.722\n",
            "Accuracy with scaling : 0.944\n"
          ]
        }
      ]
    },
    {
      "cell_type": "markdown",
      "source": [
        "7. Train a PCA model on the wine dataset and print the explained variance ratio of each prinicpal component."
      ],
      "metadata": {
        "id": "_PLSkwaUW2RS"
      }
    },
    {
      "cell_type": "code",
      "source": [
        "from sklearn.datasets import load_wine\n",
        "from sklearn.preprocessing import StandardScaler\n",
        "from sklearn.decomposition import PCA\n",
        "wine = load_wine()\n",
        "X, y = wine.data, wine.target\n",
        "X_scaled = StandardScaler().fit_transform(X)\n",
        "pca = PCA()\n",
        "pca.fit(X_scaled)\n",
        "print(\"Explained Variance Ratio for each Principal Component:\")\n",
        "for i, ratio in enumerate(pca.explained_variance_ratio_):\n",
        " print(f\"PC{i+1}: {ratio:.4f}\")\n",
        "print(\"\\nCumulative Explained Variance:\")\n",
        "print(pca.explained_variance_ratio_.cumsum())"
      ],
      "metadata": {
        "colab": {
          "base_uri": "https://localhost:8080/"
        },
        "id": "EhH9qMsJWy0h",
        "outputId": "881a49e4-b0f8-4f86-aa2a-40f439d819da"
      },
      "execution_count": null,
      "outputs": [
        {
          "output_type": "stream",
          "name": "stdout",
          "text": [
            "Explained Variance Ratio for each Principal Component:\n",
            "PC1: 0.3620\n",
            "PC2: 0.1921\n",
            "PC3: 0.1112\n",
            "PC4: 0.0707\n",
            "PC5: 0.0656\n",
            "PC6: 0.0494\n",
            "PC7: 0.0424\n",
            "PC8: 0.0268\n",
            "PC9: 0.0222\n",
            "PC10: 0.0193\n",
            "PC11: 0.0174\n",
            "PC12: 0.0130\n",
            "PC13: 0.0080\n",
            "\n",
            "Cumulative Explained Variance:\n",
            "[0.36198848 0.55406338 0.66529969 0.73598999 0.80162293 0.85098116\n",
            " 0.89336795 0.92017544 0.94239698 0.96169717 0.97906553 0.99204785\n",
            " 1.        ]\n"
          ]
        }
      ]
    },
    {
      "cell_type": "markdown",
      "source": [
        "8.Train a KNN classifier on the PCA transformed dataset. compare accuracy with it"
      ],
      "metadata": {
        "id": "1JPDG3KFYq0P"
      }
    },
    {
      "cell_type": "code",
      "source": [
        "from sklearn.datasets import load_wine\n",
        "from sklearn.model_selection import train_test_split\n",
        "from sklearn.neighbors import KNeighborsClassifier\n",
        "from sklearn.preprocessing import StandardScaler\n",
        "from sklearn.decomposition import PCA\n",
        "from sklearn.pipeline import make_pipeline\n",
        "X, y = load_wine(return_X_y=True)\n",
        "X_train, X_test, y_train, y_test = train_test_split(\n",
        "    X, y, test_size=0.3, random_state=42,\n",
        "    stratify=y\n",
        ")\n",
        "scaler = StandardScaler()\n",
        "X_train_scaled = scaler.fit_transform(X_train)\n",
        "X_test_scaled = scaler.transform(X_test)\n",
        "knn = KNeighborsClassifier(n_neighbors=5)\n",
        "knn.fit(X_train_scaled, y_train)\n",
        "y_pred_no_pca = knn.predict(X_test_scaled)\n",
        "acc_no_pca = accuracy_score(y_test, y_pred_no_pca)\n",
        "pca = PCA(n_components=2)\n",
        "X_train_pca = pca.fit_transform(X_train_scaled)\n",
        "X_test_pca = pca.transform(X_test_scaled)\n",
        "knn_pca = KNeighborsClassifier(n_neighbors=5)\n",
        "knn_pca.fit(X_train_pca, y_train)\n",
        "y_pred_pca = knn_pca.predict(X_test_pca)\n",
        "acc_pca = accuracy_score(y_test, y_pred_pca)\n",
        "print(f\"Accuracy with original scaled data:{acc_no_pca:.3f}\")\n",
        "print(f\"Accuracy with PCA (2 components):{acc_pca:.3f}\")"
      ],
      "metadata": {
        "colab": {
          "base_uri": "https://localhost:8080/"
        },
        "id": "xEOPJdmRYRfv",
        "outputId": "484e2104-ed5a-47e4-cc08-77a1ad32f98e"
      },
      "execution_count": null,
      "outputs": [
        {
          "output_type": "stream",
          "name": "stdout",
          "text": [
            "Accuracy with original scaled data:0.944\n",
            "Accuracy with PCA (2 components):0.944\n"
          ]
        }
      ]
    },
    {
      "cell_type": "markdown",
      "source": [
        "9.Train a KNN classifier with different distance metrics."
      ],
      "metadata": {
        "id": "PnnRiaePiDSc"
      }
    },
    {
      "cell_type": "code",
      "source": [
        "from sklearn.datasets import load_wine\n",
        "from sklearn.model_selection import train_test_split\n",
        "from sklearn.preprocessing import StandardScaler\n",
        "from sklearn.neighbors import KNeighborsClassifier\n",
        "from sklearn.metrics import accuracy_score\n",
        "wine = load_wine()\n",
        "X, y = wine.data, wine.target\n",
        "X_train, X_test, y_train, y_test = train_test_split(\n",
        "    X, y, test_size=0.3, random_state=42,\n",
        "    stratify=y\n",
        ")\n",
        "scaler = StandardScaler()\n",
        "X_train_scaled = scaler.fit_transform(X_train)\n",
        "X_test_scaled = scaler.transform(X_test)\n",
        "metrics = ['euclidean', 'manhattan']\n",
        "result = {}\n",
        "for metric in metrics:\n",
        "  knn =  KNeighborsClassifier(n_neighbors=5,\n",
        "                       metric=metric)\n",
        "  knn.fit(X_train_scaled, y_train)\n",
        "  y_pred = knn.predict(X_test_scaled)\n",
        "  acc = accuracy_score(y_test, y_pred)\n",
        "  result[metric] = acc\n",
        "  for metric, acc in result.items():\n",
        "    print(f\"KNN with {metric} distance Accuracy: {acc:.3f}\")"
      ],
      "metadata": {
        "colab": {
          "base_uri": "https://localhost:8080/"
        },
        "id": "ts4l5gjzhtC_",
        "outputId": "0efab594-7206-4ee8-d6d0-de83f0a87cf8"
      },
      "execution_count": null,
      "outputs": [
        {
          "output_type": "stream",
          "name": "stdout",
          "text": [
            "KNN with euclidean distance Accuracy: 0.944\n",
            "KNN with euclidean distance Accuracy: 0.944\n",
            "KNN with manhattan distance Accuracy: 0.981\n"
          ]
        }
      ]
    },
    {
      "cell_type": "markdown",
      "source": [
        "10.You are working with a high dimensional gene expression dataset to classify patients with different types of cancer."
      ],
      "metadata": {
        "id": "KvGKTIEclCy9"
      }
    },
    {
      "cell_type": "code",
      "source": [
        "import numpy as np\n",
        "from sklearn.datasets import make_classification\n",
        "from sklearn.decomposition import PCA\n",
        "from sklearn.preprocessing import StandardScaler\n",
        "from sklearn.model_selection import train_test_split\n",
        "from sklearn.neighbors import KNeighborsClassifier\n",
        "from sklearn.metrics import accuracy_score\n",
        "X, y = make_classification(n_samples=500,\n",
        "                           n_features=2000,\n",
        "                           n_informative=50, n_classes=5,\n",
        "                           random_state=42)\n",
        "X_train, X_test, y_train, y_test = train_test_split(X, y, test_size=0.2, random_state=42)\n",
        "scaler = StandardScaler()\n",
        "X_train_scaled = scaler.fit_transform(X_train)\n",
        "X_test_scaled = scaler.transform(X_test)\n",
        "pca = PCA(n_components=50)\n",
        "X_train_pca = pca.fit_transform(X_train_scaled)\n",
        "X_test_pca = pca.transform(X_test_scaled)\n",
        "knn = KNeighborsClassifier(n_neighbors=5)\n",
        "knn.fit(X_train_pca, y_train)\n",
        "y_pred = knn.predict(X_test_pca)\n",
        "print(\"Accuracy:\", accuracy_score(y_test, y_pred))"
      ],
      "metadata": {
        "colab": {
          "base_uri": "https://localhost:8080/"
        },
        "id": "vfQpcpYJm8yC",
        "outputId": "d2138244-8c49-42d5-d2b4-12a5d4edc7d9"
      },
      "execution_count": null,
      "outputs": [
        {
          "output_type": "stream",
          "name": "stdout",
          "text": [
            "Accuracy: 0.19\n"
          ]
        }
      ]
    },
    {
      "cell_type": "code",
      "source": [],
      "metadata": {
        "id": "0zl8EHpLo_Ap"
      },
      "execution_count": null,
      "outputs": []
    }
  ]
}